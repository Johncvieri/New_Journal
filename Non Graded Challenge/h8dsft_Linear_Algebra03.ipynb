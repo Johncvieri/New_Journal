{
  "nbformat": 4,
  "nbformat_minor": 0,
  "metadata": {
    "colab": {
      "name": "h8dsft_Linear_Algebra3.ipynb",
      "provenance": [],
      "collapsed_sections": []
    },
    "kernelspec": {
      "name": "python3",
      "display_name": "Python 3"
    },
    "language_info": {
      "name": "python"
    }
  },
  "cells": [
    {
      "cell_type": "markdown",
      "source": [
        "Apakah $\\begin{bmatrix}1 \\3\\end{bmatrix}$ adalah eigenvector dari $\\begin{bmatrix}1 & -1\\6 &-4 \\end{bmatrix}$? Jika iya, berapakah eigenvalue-nya?"
      ],
      "metadata": {
        "id": "8Hn7pcrSD31T"
      }
    },
    {
      "cell_type": "code",
      "source": [
        "import numpy as np\n",
        "import matplotlib.pyplot as plt"
      ],
      "metadata": {
        "id": "DGAmBVByGVMU"
      },
      "execution_count": 2,
      "outputs": []
    },
    {
      "cell_type": "code",
      "source": [
        "a = np.array([1,3]).reshape(1,-1)"
      ],
      "metadata": {
        "id": "BP6YIQmXSuBY"
      },
      "execution_count": 156,
      "outputs": []
    },
    {
      "cell_type": "code",
      "source": [
        "b = np.array([[1,-1],\n",
        "             [6,-4]])\n",
        "b"
      ],
      "metadata": {
        "colab": {
          "base_uri": "https://localhost:8080/"
        },
        "id": "ye4P0a2sU0Lc",
        "outputId": "4b26a802-9620-4b6f-cdd6-22463ff38c2d"
      },
      "execution_count": 157,
      "outputs": [
        {
          "output_type": "execute_result",
          "data": {
            "text/plain": [
              "array([[ 1, -1],\n",
              "       [ 6, -4]])"
            ]
          },
          "metadata": {},
          "execution_count": 157
        }
      ]
    },
    {
      "cell_type": "code",
      "source": [
        "def plot_vector2d(vector2d, origin=[0, 0], **options):\n",
        "    return plt.arrow(origin[0], origin[1], vector2d[0], vector2d[1],\n",
        "              head_width=0.2, head_length=0.3, length_includes_head=True,\n",
        "              **options)"
      ],
      "metadata": {
        "id": "kpZbAFVOd4pS"
      },
      "execution_count": 161,
      "outputs": []
    },
    {
      "cell_type": "markdown",
      "source": [
        "### **APAKAH X ADALAH EIGEN VECTOR Y**"
      ],
      "metadata": {
        "id": "zRBqZl-BV_C5"
      }
    },
    {
      "cell_type": "code",
      "source": [
        "c=a*b\n",
        "c"
      ],
      "metadata": {
        "colab": {
          "base_uri": "https://localhost:8080/"
        },
        "id": "5mUBAEv9jAPB",
        "outputId": "50d93144-8436-4a7c-d58d-3db1c448fa91"
      },
      "execution_count": 181,
      "outputs": [
        {
          "output_type": "execute_result",
          "data": {
            "text/plain": [
              "array([[  1,  -3],\n",
              "       [  6, -12]])"
            ]
          },
          "metadata": {},
          "execution_count": 181
        }
      ]
    },
    {
      "cell_type": "markdown",
      "source": [
        "### **Eigen Value**"
      ],
      "metadata": {
        "id": "_HJfVM_YkGvs"
      }
    },
    {
      "cell_type": "code",
      "source": [
        "eig_val, eig_vec = np.linalg.eig(c)"
      ],
      "metadata": {
        "id": "mWuaxKuKkLlb"
      },
      "execution_count": 182,
      "outputs": []
    },
    {
      "cell_type": "code",
      "source": [
        "eig_val"
      ],
      "metadata": {
        "colab": {
          "base_uri": "https://localhost:8080/"
        },
        "id": "INYSt73sko5N",
        "outputId": "60a3b275-0689-4a2b-d028-0f1feacac486"
      },
      "execution_count": 183,
      "outputs": [
        {
          "output_type": "execute_result",
          "data": {
            "text/plain": [
              "array([ -0.5755711, -10.4244289])"
            ]
          },
          "metadata": {},
          "execution_count": 183
        }
      ]
    }
  ]
}