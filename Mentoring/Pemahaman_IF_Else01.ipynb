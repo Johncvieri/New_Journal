{
  "cells": [
    {
      "cell_type": "markdown",
      "metadata": {
        "id": "_kpVTUQF2AvD"
      },
      "source": [
        "1. Sama dengan: a == b\n",
        "2. Tidak Sama dengan: a != b\n",
        "3. Kurang dari: a < b\n",
        "4. Kurang dari atau sama dengan: a <= b\n",
        "5. Lebih besar dari: a > b\n",
        "6. Lebih besar dari atau sama dengan: a >= b\n"
      ]
    },
    {
      "cell_type": "markdown",
      "metadata": {
        "id": "-dR0nNMa5w7Z"
      },
      "source": [
        "##CONTOH SOAL\n",
        "1. Jika nilai siswa lebih dari atau sama dengan 90, maka dia dapat predikat A.\n",
        "2. Jika nilai siswa lebih dari atau sama dengan 80, maka dia dapat predikat B.\n",
        "3. Jika nilai siswa lebih dari atau sama dengan 40, maka dia dapat predikat C.\n",
        "4. Dan seterusnya."
      ]
    },
    {
      "cell_type": "code",
      "execution_count": 16,
      "metadata": {
        "colab": {
          "base_uri": "https://localhost:8080/"
        },
        "id": "3oX7V-Oz56qZ",
        "outputId": "cfae841d-1087-4c9c-ccda-0464b07fa8c4"
      },
      "outputs": [
        {
          "name": "stdout",
          "output_type": "stream",
          "text": [
            "Kode program ini akan dieksekusi\n",
            "Kode program ini akan selalu dieksekusi karena tidak termasuk pada percabangan\n"
          ]
        }
      ],
      "source": [
        "# if kondisi:\n",
        "#   statements()\n",
        "\n",
        "if True:\n",
        "  print('Kode program ini akan dieksekusi')\n",
        "\n",
        "if False:\n",
        "  print('Kode program ini tidak akan dieksekusi')\n",
        "\n",
        "print('Kode program ini akan selalu dieksekusi karena tidak termasuk pada percabangan')"
      ]
    },
    {
      "cell_type": "code",
      "execution_count": 1,
      "metadata": {
        "colab": {
          "base_uri": "https://localhost:8080/"
        },
        "id": "yzEbdbWn6hLi",
        "outputId": "2ba76390-f47c-4569-86e1-f8019b657bec"
      },
      "outputs": [
        {
          "name": "stdout",
          "output_type": "stream",
          "text": [
            "Nilai 10 lebih dari 5\n"
          ]
        }
      ],
      "source": [
        "if 5 > 10: \n",
        "  print('Nilai 5 lebih dari 10')\n",
        "\n",
        "if 10 > 5: \n",
        "  print('Nilai 10 lebih dari 5')"
      ]
    },
    {
      "cell_type": "markdown",
      "metadata": {
        "id": "Vh3JHLBm6saR"
      },
      "source": [
        "Blok if else dinamakan percabangan, karena memiliki setidaknya 2 cabang:\n",
        "\n",
        "1. Cabang if\n",
        "2. Cabang else\n",
        "Perhatikan contoh berikut:"
      ]
    },
    {
      "cell_type": "code",
      "execution_count": 19,
      "metadata": {
        "colab": {
          "base_uri": "https://localhost:8080/"
        },
        "id": "xew3mJTd63Qd",
        "outputId": "9d4cdc3d-87cf-4c3d-b278-fc83a1272c35"
      },
      "outputs": [
        {
          "name": "stdout",
          "output_type": "stream",
          "text": [
            "Nilai anda adalah: 50 \n",
            "\n",
            "tidak lulus.\n"
          ]
        }
      ],
      "source": [
        "nilai = 50\n",
        "\n",
        "print('Nilai anda adalah:', nilai, '\\n')\n",
        "\n",
        "if nilai >= 70:\n",
        "  print('lulus')\n",
        "else:\n",
        "  print('tidak lulus.')"
      ]
    },
    {
      "cell_type": "markdown",
      "metadata": {
        "id": "48-GmX-T7UlQ"
      },
      "source": [
        "mengganti nilai = 50 menjadi inputan user #\n",
        "nilai = int(input('Masukkan nilai anda: '))"
      ]
    },
    {
      "cell_type": "code",
      "execution_count": 20,
      "metadata": {
        "colab": {
          "base_uri": "https://localhost:8080/"
        },
        "id": "p13KM8zO7V7b",
        "outputId": "f8ab75d4-3b1e-4f7e-bc6b-dc98e3afbf9e"
      },
      "outputs": [
        {
          "name": "stdout",
          "output_type": "stream",
          "text": [
            "Masukkan nilai anda: 25\n",
            "Nilai anda adalah: 25 \n",
            "\n",
            "tidak lulus.\n"
          ]
        }
      ],
      "source": [
        "nilai = int(input('Masukkan nilai anda: '))\n",
        "print('Nilai anda adalah:', nilai, '\\n')\n",
        "\n",
        "if nilai >= 70:\n",
        "  print('lulus')\n",
        "else:\n",
        "  print('tidak lulus.')"
      ]
    },
    {
      "cell_type": "markdown",
      "metadata": {
        "id": "hzXLVVVw8UH3"
      },
      "source": [
        "* rules:\n",
        "\n",
        "* Predikat A untuk nilai >= 90\n",
        "* Predikat B untuk nilai >= 80 < 90\n",
        "* Predikat C untuk nilai >= 60 < 80\n",
        "* Predikat D untuk nilai >= 40 < 60\n",
        "* Selain itu, maka predikat E.\n",
        "* menggunakan satu if, 3 elif, dan 1 else\n",
        "\n",
        "\n"
      ]
    },
    {
      "cell_type": "code",
      "execution_count": 30,
      "metadata": {
        "colab": {
          "base_uri": "https://localhost:8080/"
        },
        "id": "evUO6sES71bU",
        "outputId": "5f533496-cbd7-48f6-9e35-1b342e445968"
      },
      "outputs": [
        {
          "name": "stdout",
          "output_type": "stream",
          "text": [
            "Masukkan nilai: 22\n",
            "Predikat E\n"
          ]
        }
      ],
      "source": [
        "nilai = int(input('Masukkan nilai: '))\n",
        "\n",
        "if nilai >= 90:\n",
        "  print('Predikat A')\n",
        "elif nilai >= 80:                     #Gunakan elif agar output yang keluar sesuai dengan predikat yang diinginkan\n",
        "  print('Predikat B')\n",
        "elif nilai >= 60:\n",
        "  print('Predikat C')\n",
        "elif nilai >= 40:\n",
        "  print('Predikat D')\n",
        "else:\n",
        "  print('Predikat E')"
      ]
    },
    {
      "cell_type": "markdown",
      "metadata": {
        "id": "r82vT3-k_-ZQ"
      },
      "source": [
        "buatlah sebuah list"
      ]
    },
    {
      "cell_type": "code",
      "execution_count": 31,
      "metadata": {
        "colab": {
          "base_uri": "https://localhost:8080/"
        },
        "id": "ln1TY2yQ_qqR",
        "outputId": "4eaf6bb3-5473-44e5-fde0-9a4e8d930c54"
      },
      "outputs": [
        {
          "name": "stdout",
          "output_type": "stream",
          "text": [
            "Masukkan nama buah dalam huruf kecil: mangga\n",
            "Buah yang anda cari tersedia!\n"
          ]
        }
      ],
      "source": [
        "buah = ['jeruk', 'mangga', 'melon']\n",
        "buah_yang_dicari = input('Masukkan nama buah dalam huruf kecil: ')\n",
        "\n",
        "if (buah_yang_dicari in buah):\n",
        "  print('Buah yang anda cari tersedia!')\n",
        "else:\n",
        "  print('Buah yang anda cari tidak tersedia!')"
      ]
    },
    {
      "cell_type": "markdown",
      "metadata": {
        "id": "u4770Ob4AOmF"
      },
      "source": [
        "###Percabangan satu baris.\n",
        "* kode dibawah adalah shortcut dari =\n",
        "* if nilai >= 70:\n",
        "*  status = 'lulus'\n",
        "* else:\n",
        "*  status = 'tidak lulus'\n",
        "\n",
        "* print(status)"
      ]
    },
    {
      "cell_type": "code",
      "execution_count": 32,
      "metadata": {
        "colab": {
          "base_uri": "https://localhost:8080/"
        },
        "id": "n4bDZpF-AI30",
        "outputId": "d0ef94a2-e450-4dd6-aac6-736376c2b1b7"
      },
      "outputs": [
        {
          "name": "stdout",
          "output_type": "stream",
          "text": [
            "Masukkan nilai: 80\n",
            "lulus\n"
          ]
        }
      ],
      "source": [
        "nilai = int(input('Masukkan nilai: '))\n",
        "status = 'lulus' if nilai >= 70 else 'tidak lulus'\n",
        "\n",
        "print(status)"
      ]
    },
    {
      "cell_type": "markdown",
      "metadata": {
        "id": "Py-BdIILCEct"
      },
      "source": [
        "### PERCABANGAN BERTINGKAT"
      ]
    },
    {
      "cell_type": "code",
      "execution_count": null,
      "metadata": {
        "id": "lSjdeMiXCLLi"
      },
      "outputs": [],
      "source": [
        "nilai = int(input('Masukkan nilai: '))\n",
        "usia = int(input('Masukkan usia: '))\n",
        "\n",
        "if nilai >= 75:\n",
        "  if (usia < 15):\n",
        "    print('Selamat adek, kamu lulus!')\n",
        "  else:\n",
        "    print('Selamat kakak, kamu lulus!')\n",
        "else:\n",
        "  if (usia < 15):\n",
        "    print('Mohon maaf dek, coba lagi ya!')\n",
        "  else:\n",
        "    print('Mohon maaf kak, coba lagi ya!')"
      ]
    },
    {
      "cell_type": "code",
      "execution_count": 33,
      "metadata": {
        "colab": {
          "base_uri": "https://localhost:8080/"
        },
        "id": "MJZHbRLrCQ95",
        "outputId": "7ce9611d-0996-4f2a-d1ed-68b0e6dbacd2"
      },
      "outputs": [
        {
          "name": "stdout",
          "output_type": "stream",
          "text": [
            "masukan data diri :15\n",
            "masukan usia :12\n",
            "maaf kamu tidak lulus\n"
          ]
        }
      ],
      "source": [
        "nilai = int(input('masukan data diri :'))\n",
        "usia = int(input('masukan usia :'))\n",
        "\n",
        "if nilai >= 75:\n",
        "  if(usia <15):\n",
        "    print('selamat anda lulus')\n",
        "  else:\n",
        "    print('selamat kamu tidak lulus')\n",
        "else:\n",
        "  if (usia<15):\n",
        "    print('maaf kamu tidak lulus')\n",
        "  else:\n",
        "    print('maaf kamu tidak lulus')"
      ]
    }
  ],
  "metadata": {
    "colab": {
      "name": "Pemahaman_IF_Else.ipynb",
      "provenance": []
    },
    "kernelspec": {
      "display_name": "Python 3",
      "name": "python3"
    },
    "language_info": {
      "codemirror_mode": {
        "name": "ipython",
        "version": 3
      },
      "file_extension": ".py",
      "mimetype": "text/x-python",
      "name": "python",
      "nbconvert_exporter": "python",
      "pygments_lexer": "ipython3",
      "version": "3.10.2"
    }
  },
  "nbformat": 4,
  "nbformat_minor": 0
}
