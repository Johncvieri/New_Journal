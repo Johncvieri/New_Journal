{
  "nbformat": 4,
  "nbformat_minor": 0,
  "metadata": {
    "colab": {
      "name": "conditional_&_Loop.ipynb",
      "provenance": []
    },
    "kernelspec": {
      "name": "python3",
      "display_name": "Python 3"
    },
    "language_info": {
      "name": "python"
    }
  },
  "cells": [
    {
      "cell_type": "code",
      "source": [
        "#cek apakah angka berada di variabel angka adalah bilangan ganjil/genap ?\n",
        "\n",
        "angka = 15\n",
        "if angka%2 != 1:\n",
        "  print(f'{angka}adalah bilangan genap')\n",
        "else: \n",
        "  print(f'{angka} adalah bilangan ganjil')"
      ],
      "metadata": {
        "colab": {
          "base_uri": "https://localhost:8080/"
        },
        "id": "2yWUOyaLXGfn",
        "outputId": "d5182862-d315-46a5-cb2f-4ddb1fa62ef7"
      },
      "execution_count": 13,
      "outputs": [
        {
          "output_type": "stream",
          "name": "stdout",
          "text": [
            "15 adalah bilangan ganjil\n"
          ]
        }
      ]
    },
    {
      "cell_type": "code",
      "source": [
        "bahasa_pemograman = [\"python\",\"java\",\"js\",\"golang\"]\n",
        "bahasa = \"html\"\n",
        "\n",
        "if bahasa in bahasa_pemograman:\n",
        "  print(f\"{bahasa} ada dalam list bahasa_pemograman\")\n",
        "else:\n",
        "\n",
        "  print(f\"{bahasa} tidak ada dalam list bahasa pemograman\")"
      ],
      "metadata": {
        "colab": {
          "base_uri": "https://localhost:8080/"
        },
        "id": "lNOAwCkjcKQT",
        "outputId": "b5e05601-26d4-47de-f1c7-706ab111f9d6"
      },
      "execution_count": 14,
      "outputs": [
        {
          "output_type": "stream",
          "name": "stdout",
          "text": [
            "html tidak ada dalam list bahasa pemograman\n"
          ]
        }
      ]
    },
    {
      "cell_type": "code",
      "source": [
        "#memiliki 2 logika\n",
        "angka = 35\n",
        "if angka > 30:\n",
        "  print(f\"{angka} lebih besar dari 30\")\n",
        "elif angka == 30:\n",
        "  print(f\"{angka} sama dengan 30\")\n",
        "else:\n",
        "  print(f\"{angka} lebih kecil dari 30\")\n",
        "\n",
        "#if harus ada, sedangkan else opsional"
      ],
      "metadata": {
        "colab": {
          "base_uri": "https://localhost:8080/"
        },
        "id": "bwH0joTOc4ry",
        "outputId": "5c0d87c4-fafc-4b33-ea7f-1ebb0b972469"
      },
      "execution_count": 20,
      "outputs": [
        {
          "output_type": "stream",
          "name": "stdout",
          "text": [
            "35 lebih besar dari 30\n"
          ]
        }
      ]
    },
    {
      "cell_type": "code",
      "source": [
        "#dictionary\n",
        "\n",
        "biodata = {'nama': 'afif', 'pekerjaan' : 'Data Scientist', 'usia':20}\n",
        "'usia' in biodata"
      ],
      "metadata": {
        "colab": {
          "base_uri": "https://localhost:8080/"
        },
        "id": "6Gjwn_sceEJA",
        "outputId": "5ac48d49-78e7-4bff-adb2-7e02217dbc6c"
      },
      "execution_count": 21,
      "outputs": [
        {
          "output_type": "execute_result",
          "data": {
            "text/plain": [
              "True"
            ]
          },
          "metadata": {},
          "execution_count": 21
        }
      ]
    },
    {
      "cell_type": "code",
      "source": [
        "'afif' in biodata.values()"
      ],
      "metadata": {
        "colab": {
          "base_uri": "https://localhost:8080/"
        },
        "id": "nodX77LcficT",
        "outputId": "34e0fb55-20ac-41ba-9d62-c4db3640d997"
      },
      "execution_count": 22,
      "outputs": [
        {
          "output_type": "execute_result",
          "data": {
            "text/plain": [
              "True"
            ]
          },
          "metadata": {},
          "execution_count": 22
        }
      ]
    },
    {
      "cell_type": "code",
      "source": [
        "\n",
        "# [ 85 - 100  ]  : A\n",
        "# [ 70 - 85   ]  : B\n",
        "# [ 50 - 70   ]  : C\n",
        "# [ 25 - 50   ]  : D\n",
        "# [0 - 25     ]  : E\n",
        "\n",
        "angka = 80\n",
        "if 0 <= angka <= 100:\n",
        "        if angka >= 85:\n",
        "        print(\"A\")\n",
        "        elif angka =>70:\n",
        "        print(\"B\")\n",
        "        elif angka =>50:\n",
        "        print(\"C\")\n",
        "        elif angka =>25:\n",
        "        print(\"D\")\n",
        "      else:\n",
        "      print(\"E\")\n",
        "  else:\n",
        "    print('NILAI TIDAK VALID')"
      ],
      "metadata": {
        "colab": {
          "base_uri": "https://localhost:8080/",
          "height": 132
        },
        "id": "1ptUhQDZgxk-",
        "outputId": "695627ba-8712-4fd1-f561-77ea333e3ca2"
      },
      "execution_count": 71,
      "outputs": [
        {
          "output_type": "error",
          "ename": "IndentationError",
          "evalue": "ignored",
          "traceback": [
            "\u001b[0;36m  File \u001b[0;32m\"<ipython-input-71-00882d22dc6f>\"\u001b[0;36m, line \u001b[0;32m11\u001b[0m\n\u001b[0;31m    print(\"A\")\u001b[0m\n\u001b[0m        ^\u001b[0m\n\u001b[0;31mIndentationError\u001b[0m\u001b[0;31m:\u001b[0m expected an indented block\n"
          ]
        }
      ]
    },
    {
      "cell_type": "code",
      "source": [
        "#LOOPING\n",
        "\n",
        "i = 0\n",
        "while i < 5:\n",
        "  print(f\"i={i}, dalam while loop\")\n",
        "  i = i + 1"
      ],
      "metadata": {
        "colab": {
          "base_uri": "https://localhost:8080/"
        },
        "id": "V4g5JPPzmr16",
        "outputId": "5274fe9f-1242-4c78-d2b2-ec888634dcf6"
      },
      "execution_count": 39,
      "outputs": [
        {
          "output_type": "stream",
          "name": "stdout",
          "text": [
            "i=0, dalam while loop\n",
            "i=1, dalam while loop\n",
            "i=2, dalam while loop\n",
            "i=3, dalam while loop\n",
            "i=4, dalam while loop\n"
          ]
        }
      ]
    },
    {
      "cell_type": "code",
      "source": [
        "i = 1 \n",
        "while i <= 10:\n",
        "  print(f\"7 x {i} = {7*i}\")\n",
        "  i += 1                        # i = i + 1"
      ],
      "metadata": {
        "colab": {
          "base_uri": "https://localhost:8080/"
        },
        "id": "3yZ--Fp4qGke",
        "outputId": "f777226d-8754-4d69-85b9-b00e7c3b8172"
      },
      "execution_count": 48,
      "outputs": [
        {
          "output_type": "stream",
          "name": "stdout",
          "text": [
            "7 x 1 = 7\n",
            "7 x 2 = 14\n",
            "7 x 3 = 21\n",
            "7 x 4 = 28\n",
            "7 x 5 = 35\n",
            "7 x 6 = 42\n",
            "7 x 7 = 49\n",
            "7 x 8 = 56\n",
            "7 x 9 = 63\n",
            "7 x 10 = 70\n"
          ]
        }
      ]
    },
    {
      "cell_type": "code",
      "source": [
        "#NESTED LOOP \n",
        "\n",
        "i = 0\n",
        "j = 0\n",
        "\n",
        "while j<= 10 :\n",
        "  i = 1\n",
        "  while i <=10 :\n",
        "    print(f\"{j} x {i} = {j*i}\")\n",
        "    i += 1\n",
        "    print(\"*\"*50)\n",
        "    j += 1"
      ],
      "metadata": {
        "colab": {
          "base_uri": "https://localhost:8080/"
        },
        "id": "Rs2nrdujrVJ2",
        "outputId": "9f0851a7-143a-457f-d2b9-bbd47b59559b"
      },
      "execution_count": 56,
      "outputs": [
        {
          "output_type": "stream",
          "name": "stdout",
          "text": [
            "0 x 1 = 0\n",
            "**************************************************\n",
            "1 x 2 = 2\n",
            "**************************************************\n",
            "2 x 3 = 6\n",
            "**************************************************\n",
            "3 x 4 = 12\n",
            "**************************************************\n",
            "4 x 5 = 20\n",
            "**************************************************\n",
            "5 x 6 = 30\n",
            "**************************************************\n",
            "6 x 7 = 42\n",
            "**************************************************\n",
            "7 x 8 = 56\n",
            "**************************************************\n",
            "8 x 9 = 72\n",
            "**************************************************\n",
            "9 x 10 = 90\n",
            "**************************************************\n",
            "10 x 1 = 10\n",
            "**************************************************\n",
            "11 x 2 = 22\n",
            "**************************************************\n",
            "12 x 3 = 36\n",
            "**************************************************\n",
            "13 x 4 = 52\n",
            "**************************************************\n",
            "14 x 5 = 70\n",
            "**************************************************\n",
            "15 x 6 = 90\n",
            "**************************************************\n",
            "16 x 7 = 112\n",
            "**************************************************\n",
            "17 x 8 = 136\n",
            "**************************************************\n",
            "18 x 9 = 162\n",
            "**************************************************\n",
            "19 x 10 = 190\n",
            "**************************************************\n"
          ]
        }
      ]
    },
    {
      "cell_type": "code",
      "source": [
        "#BREAK\n",
        "\n",
        "i = 1\n",
        "while i <= 10:\n",
        "  print(f\"7 x {i} = {7*i}\")\n",
        "  i += 1\n",
        "  if i == 5 :\n",
        "    break"
      ],
      "metadata": {
        "colab": {
          "base_uri": "https://localhost:8080/"
        },
        "id": "fSjK2SJRtqLU",
        "outputId": "cfa4d73a-6bb9-4efa-b545-3bffc54c0fe4"
      },
      "execution_count": 57,
      "outputs": [
        {
          "output_type": "stream",
          "name": "stdout",
          "text": [
            "7 x 1 = 7\n",
            "7 x 2 = 14\n",
            "7 x 3 = 21\n",
            "7 x 4 = 28\n"
          ]
        }
      ]
    },
    {
      "cell_type": "code",
      "source": [
        "pesanan = []\n",
        "while True:\n",
        "  pesan = input(\"Masukkan Pesanan Anda : \")\n",
        "  if pesan == 'cukup':\n",
        "    break\n",
        "    pesanan.append(pesan)\n",
        "    print(pesanan)"
      ],
      "metadata": {
        "colab": {
          "base_uri": "https://localhost:8080/"
        },
        "id": "ln_yXQghuMOF",
        "outputId": "5277ac54-91de-4849-a14b-ce0a52e770c6"
      },
      "execution_count": 60,
      "outputs": [
        {
          "name": "stdout",
          "output_type": "stream",
          "text": [
            "Masukkan Pesanan Anda : teh\n",
            "Masukkan Pesanan Anda : cukup\n"
          ]
        }
      ]
    },
    {
      "cell_type": "code",
      "source": [
        "#Continue\n",
        "\n",
        "i = 1\n",
        "while i <= 10:\n",
        "  i += 1\n",
        "  if i == 5:\n",
        "    continue\n",
        "  print(f\"7 x {i} = {7*i}\")"
      ],
      "metadata": {
        "colab": {
          "base_uri": "https://localhost:8080/"
        },
        "id": "uKjoBxotuxek",
        "outputId": "1cdaa15a-9bb6-4a02-e0c9-2e4ccc78a6bf"
      },
      "execution_count": 62,
      "outputs": [
        {
          "output_type": "stream",
          "name": "stdout",
          "text": [
            "7 x 2 = 14\n",
            "7 x 3 = 21\n",
            "7 x 4 = 28\n",
            "7 x 6 = 42\n",
            "7 x 7 = 49\n",
            "7 x 8 = 56\n",
            "7 x 9 = 63\n",
            "7 x 10 = 70\n",
            "7 x 11 = 77\n"
          ]
        }
      ]
    },
    {
      "cell_type": "code",
      "source": [
        "#FOR LOOP\n",
        "\n",
        "buah = [\"pepaya\",\"mangga\",\"pisang\",\"jambu\"]\n",
        "for b in buah :\n",
        "  print(f\"{b} adalah item dalam list buah\")"
      ],
      "metadata": {
        "colab": {
          "base_uri": "https://localhost:8080/"
        },
        "id": "4EPHB6evvkE7",
        "outputId": "51279334-bb68-45dc-dc9c-348d3efabdcc"
      },
      "execution_count": 64,
      "outputs": [
        {
          "output_type": "stream",
          "name": "stdout",
          "text": [
            "pepaya adalah item dalam list buah\n",
            "mangga adalah item dalam list buah\n",
            "pisang adalah item dalam list buah\n",
            "jambu adalah item dalam list buah\n"
          ]
        }
      ]
    },
    {
      "cell_type": "code",
      "source": [
        "i = 0\n",
        "buah = [\"pepaya\",\"mangga\",\"pisang\",\"jambu\"]\n",
        "while i < len(buah):\n",
        "  print(buah[i])\n",
        "  i += 1"
      ],
      "metadata": {
        "colab": {
          "base_uri": "https://localhost:8080/"
        },
        "id": "8CzcP8DRwh3I",
        "outputId": "64b084eb-8af5-4bf4-d15c-05bc48b5e137"
      },
      "execution_count": 65,
      "outputs": [
        {
          "output_type": "stream",
          "name": "stdout",
          "text": [
            "pepaya\n",
            "mangga\n",
            "pisang\n",
            "jambu\n"
          ]
        }
      ]
    },
    {
      "cell_type": "code",
      "source": [
        "list(range(1,11))"
      ],
      "metadata": {
        "colab": {
          "base_uri": "https://localhost:8080/"
        },
        "id": "KIWR4jjZyQcb",
        "outputId": "40a001ca-c88c-413f-9b5a-a543b27f2f7d"
      },
      "execution_count": 69,
      "outputs": [
        {
          "output_type": "execute_result",
          "data": {
            "text/plain": [
              "[1, 2, 3, 4, 5, 6, 7, 8, 9, 10]"
            ]
          },
          "metadata": {},
          "execution_count": 69
        }
      ]
    },
    {
      "cell_type": "code",
      "source": [
        "# Tabel perkalian\n",
        "\n",
        "for i in range(1,11):\n",
        "  print(f\"{j} x {i} = {j*i}\")"
      ],
      "metadata": {
        "colab": {
          "base_uri": "https://localhost:8080/"
        },
        "id": "AfH_K3XMyasM",
        "outputId": "4fb3e1a3-d138-4b90-b864-314b0322a515"
      },
      "execution_count": 70,
      "outputs": [
        {
          "output_type": "stream",
          "name": "stdout",
          "text": [
            "20 x 1 = 20\n",
            "20 x 2 = 40\n",
            "20 x 3 = 60\n",
            "20 x 4 = 80\n",
            "20 x 5 = 100\n",
            "20 x 6 = 120\n",
            "20 x 7 = 140\n",
            "20 x 8 = 160\n",
            "20 x 9 = 180\n",
            "20 x 10 = 200\n"
          ]
        }
      ]
    }
  ]
}