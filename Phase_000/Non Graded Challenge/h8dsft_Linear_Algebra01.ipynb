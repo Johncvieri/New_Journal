{
  "nbformat": 4,
  "nbformat_minor": 0,
  "metadata": {
    "colab": {
      "name": "h8dsft_Linear_Algebra1.ipynb",
      "provenance": []
    },
    "kernelspec": {
      "name": "python3",
      "display_name": "Python 3"
    },
    "language_info": {
      "name": "python"
    }
  },
  "cells": [
    {
      "cell_type": "code",
      "source": [
        "import numpy as np"
      ],
      "metadata": {
        "id": "2tRMuKe4fvwT"
      },
      "execution_count": 5,
      "outputs": []
    },
    {
      "cell_type": "markdown",
      "source": [
        "Buatlah Vector dibawah ini dengan Python:\n",
        "$$ \\begin{bmatrix} 17 \\ 22 \\ 19 \\end{bmatrix} $$"
      ],
      "metadata": {
        "id": "buL2hb_8eyvT"
      }
    },
    {
      "cell_type": "code",
      "execution_count": 6,
      "metadata": {
        "id": "Dv_jXCFwcI2d"
      },
      "outputs": [],
      "source": [
        "Vektor = np.array([1, 2, 3])"
      ]
    },
    {
      "cell_type": "markdown",
      "source": [
        "Diberikan 3 buah vektor 3 dimensi: $$ A= \\begin{bmatrix} 17 \\ 22 \\ 19 \\end{bmatrix} ,B= \\begin{bmatrix} 10 \\ 20 \\ 11 \\end{bmatrix}, C= \\begin{bmatrix} 5 \\ 12 \\ 9 \\end{bmatrix} $$\n",
        "Hitunglah:\n",
        "\n",
        "A+B\n",
        "\n",
        "B-C\n",
        "\n",
        "A dot C\n",
        "\n",
        "A x B\n",
        "\n",
        "norm A\n",
        "\n",
        "Sudut antara vektor A dan B\n",
        "\n",
        "Buatlah plot dari vector berikut ini kedalam bidang 2D:\n",
        "\n",
        "$$ U = \\begin{bmatrix} 2 \\ 5 \\end{bmatrix}, V = \\begin{bmatrix} 3 \\ 1 \\end{bmatrix} $$"
      ],
      "metadata": {
        "id": "4ScXzD1fe0OY"
      }
    },
    {
      "cell_type": "code",
      "source": [
        "A=np.array([17,22,19])\n",
        "B=np.array([10,20,11])\n",
        "C=np.array([5,12,9])"
      ],
      "metadata": {
        "id": "ycYr5nsWe5yg"
      },
      "execution_count": 8,
      "outputs": []
    },
    {
      "cell_type": "markdown",
      "source": [
        "**A+B**"
      ],
      "metadata": {
        "id": "K594LOCTgRio"
      }
    },
    {
      "cell_type": "code",
      "source": [
        "A + B"
      ],
      "metadata": {
        "id": "P3BoskhWgQ8_"
      },
      "execution_count": null,
      "outputs": []
    },
    {
      "cell_type": "markdown",
      "source": [
        "** B-C **"
      ],
      "metadata": {
        "id": "-dDAfLWtgbsQ"
      }
    },
    {
      "cell_type": "code",
      "source": [
        "B-C"
      ],
      "metadata": {
        "id": "w6iZJ0r2gNLB"
      },
      "execution_count": null,
      "outputs": []
    },
    {
      "cell_type": "markdown",
      "source": [
        "**A dot C**"
      ],
      "metadata": {
        "id": "_aHAuEljghhf"
      }
    },
    {
      "cell_type": "code",
      "source": [
        "A @ C"
      ],
      "metadata": {
        "id": "VIq1SpYUgkcw"
      },
      "execution_count": null,
      "outputs": []
    },
    {
      "cell_type": "markdown",
      "source": [
        "**A x B**"
      ],
      "metadata": {
        "id": "n6XIV4-Ee4yo"
      }
    },
    {
      "cell_type": "code",
      "source": [
        "A * C"
      ],
      "metadata": {
        "id": "rwWywu-wgqnX"
      },
      "execution_count": null,
      "outputs": []
    },
    {
      "cell_type": "markdown",
      "source": [
        "### **NORM**"
      ],
      "metadata": {
        "id": "wyxD7B49tYIm"
      }
    },
    {
      "cell_type": "code",
      "source": [
        "Pnjg_Vektor_A = np.linalg.norm(A)\n",
        "Pnjg_Vektor_A"
      ],
      "metadata": {
        "id": "KPNszx7rtbX1"
      },
      "execution_count": null,
      "outputs": []
    },
    {
      "cell_type": "markdown",
      "source": [
        "**BESAR SUDUT**"
      ],
      "metadata": {
        "id": "K-wpgdWkp_Ho"
      }
    },
    {
      "cell_type": "code",
      "source": [
        "Panjang_vektor_A = np.linalg.norm(A)"
      ],
      "metadata": {
        "id": "Ckz1bIQLqDTR"
      },
      "execution_count": 27,
      "outputs": []
    },
    {
      "cell_type": "code",
      "source": [
        "Panjang_vektor_B = np.linalg.norm(B)"
      ],
      "metadata": {
        "id": "wOxTh2D8rruH"
      },
      "execution_count": 28,
      "outputs": []
    },
    {
      "cell_type": "code",
      "source": [
        "Besar_Sudut = A @ B / (Panjang_vektor_A * Panjang_vektor_B)\n",
        "Besar_Sudut"
      ],
      "metadata": {
        "id": "t3AC2wKvg_lv"
      },
      "execution_count": null,
      "outputs": []
    },
    {
      "cell_type": "code",
      "source": [
        "Besar_Sudut_ = A @ B / (np.linalg.norm(A) * np.linalg.norm(B))\n",
        "Besar_Sudut_"
      ],
      "metadata": {
        "id": "RcTqWouFsw0H"
      },
      "execution_count": null,
      "outputs": []
    },
    {
      "cell_type": "markdown",
      "source": [
        "plot dari vector berikut ini kedalam bidang 2D:\n",
        "\n",
        "U=[2 5],V=[3 1]"
      ],
      "metadata": {
        "id": "uOPuFqo9uHVU"
      }
    },
    {
      "cell_type": "code",
      "source": [
        "import matplotlib.pyplot as plt\n",
        "\n",
        "def plot_vector2d(vector2d, origin=[0, 0], **options):\n",
        "    return plt.arrow(origin[0], origin[1], vector2d[0], vector2d[1],\n",
        "              head_width=0.2, head_length=0.3, length_includes_head=True,\n",
        "              **options)"
      ],
      "metadata": {
        "id": "c-LxnwQhul80"
      },
      "execution_count": 42,
      "outputs": []
    },
    {
      "cell_type": "code",
      "source": [
        "U = np.array([2, 5])\n",
        "V = np.array([3, 1])\n",
        "\n",
        "plot_vector2d(U, color=\"r\") # visualisasi U\n",
        "plot_vector2d(V, color=\"b\") # visualisasi V\n",
        "plt.axis([0, 10, 0, 10]) # rentang axis sumbu x dan y\n",
        "plt.grid()\n",
        "plt.show()"
      ],
      "metadata": {
        "colab": {
          "base_uri": "https://localhost:8080/",
          "height": 269
        },
        "id": "rrcimtbsuINM",
        "outputId": "1e6f6ae4-d7cb-4c50-87d3-d88607847d95"
      },
      "execution_count": 41,
      "outputs": [
        {
          "output_type": "display_data",
          "data": {
            "text/plain": [
              "<Figure size 432x288 with 1 Axes>"
            ],
            "image/png": "[encoded data removed]"
          },
          "metadata": {
            "needs_background": "light"
          }
        }
      ]
    }
  ]
}