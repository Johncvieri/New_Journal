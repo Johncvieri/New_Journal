{
  "nbformat": 4,
  "nbformat_minor": 0,
  "metadata": {
    "colab": {
      "name": "h8dsft_Loopin.ipynb",
      "provenance": []
    },
    "kernelspec": {
      "name": "python3",
      "display_name": "Python 3"
    },
    "language_info": {
      "name": "python"
    }
  },
  "cells": [
    {
      "cell_type": "code",
      "execution_count": null,
      "metadata": {
        "id": "1AeBROSONA1a"
      },
      "outputs": [],
      "source": [
        "# -Buatlah sebuah list dengan value berupa:\n",
        "  #     numbers = [951, 402, 984, 651, 360, 69, 408, 319, 601,\n",
        "  #                485, 980, 507, 725, 547, 544, 615, 83, 165,\n",
        "  #                141, 501, 263, 617, 865, 575, 219, 390, 984,\n",
        "  #                592, 236, 105, 942, 941, 386, 462, 47, 418,\n",
        "  #                907, 344, 236, 375, 823, 566, 597, 978, 328,\n",
        "  #                615, 953, 345, 399, 162, 758, 219, 918, 237,\n",
        "  #                412, 566, 826, 248, 866, 950, 626, 949]\n",
        "  #        -Loop dan print semua angka genap dari list angka diatas dengan urutan yang sama. \n",
        "  #        -Jangan mencetak angka apapun yang muncul setelah angka 918 berdasarkan posisi angka tersebut pada list diatas.\n",
        "  #        -\\Tampilkan pesan ”Done” setelah looping berakhir.\n"
      ]
    },
    {
      "cell_type": "code",
      "source": [
        "#LOOP DAN PRINT SEMUA ANGKA GENAP DENGAN URUTAN YANG SAMA\n",
        "\n",
        "for numbers in [951, 402, 984, 651, 360, 69, 408, 319, 601, \n",
        "          485, 980, 507, 725, 547, 544, 615, 83, 165,\n",
        "          141, 501, 263, 617, 865, 575, 219, 390, 984,\n",
        "          592, 236, 105, 942, 941, 386, 462, 47, 418,\n",
        "          907, 344, 236, 375, 823, 566, 597, 978, 328,\n",
        "          615, 953, 345, 399, 162, 758, 219, 918, 237,\n",
        "          412, 566, 826, 248, 866, 950, 626, 949] : \n",
        "    if numbers % 2 == 1:\n",
        "        continue\n",
        "    print(f\"{numbers} adalah angka genap\")"
      ],
      "metadata": {
        "colab": {
          "base_uri": "https://localhost:8080/"
        },
        "id": "DbrMfBMKO6sg",
        "outputId": "52e42d7e-8969-4c00-b9e4-c643815d53a7"
      },
      "execution_count": 24,
      "outputs": [
        {
          "output_type": "stream",
          "name": "stdout",
          "text": [
            "402 adalah angka genap\n",
            "984 adalah angka genap\n",
            "360 adalah angka genap\n",
            "408 adalah angka genap\n",
            "980 adalah angka genap\n",
            "544 adalah angka genap\n",
            "390 adalah angka genap\n",
            "984 adalah angka genap\n",
            "592 adalah angka genap\n",
            "236 adalah angka genap\n",
            "942 adalah angka genap\n",
            "386 adalah angka genap\n",
            "462 adalah angka genap\n",
            "418 adalah angka genap\n",
            "344 adalah angka genap\n",
            "236 adalah angka genap\n",
            "566 adalah angka genap\n",
            "978 adalah angka genap\n",
            "328 adalah angka genap\n",
            "162 adalah angka genap\n",
            "758 adalah angka genap\n",
            "918 adalah angka genap\n",
            "412 adalah angka genap\n",
            "566 adalah angka genap\n",
            "826 adalah angka genap\n",
            "248 adalah angka genap\n",
            "866 adalah angka genap\n",
            "950 adalah angka genap\n",
            "626 adalah angka genap\n"
          ]
        }
      ]
    },
    {
      "cell_type": "code",
      "source": [
        "numbers = [951, 402, 984, 651, 360, 69, 408, 319, 601, \n",
        "          485, 980, 507, 725, 547, 544, 615, 83, 165,\n",
        "          141, 501, 263, 617, 865, 575, 219, 390, 984,\n",
        "          592, 236, 105, 942, 941, 386, 462, 47, 418,\n",
        "          907, 344, 236, 375, 823, 566, 597, 978, 328,\n",
        "          615, 953, 345, 399, 162, 758, 219, 918, 237,\n",
        "          412, 566, 826, 248, 866, 950, 626, 949]\n",
        "for i in numbers:\n",
        "  if (i == 918):\n",
        "    break\n",
        "  print(\"done\")\n",
        "  print(i)"
      ],
      "metadata": {
        "colab": {
          "base_uri": "https://localhost:8080/"
        },
        "id": "jXl9V6ZhZQ05",
        "outputId": "a2ac82cc-ca74-41c3-c978-6f8227730728"
      },
      "execution_count": 50,
      "outputs": [
        {
          "output_type": "stream",
          "name": "stdout",
          "text": [
            "done\n",
            "951\n",
            "done\n",
            "402\n",
            "done\n",
            "984\n",
            "done\n",
            "651\n",
            "done\n",
            "360\n",
            "done\n",
            "69\n",
            "done\n",
            "408\n",
            "done\n",
            "319\n",
            "done\n",
            "601\n",
            "done\n",
            "485\n",
            "done\n",
            "980\n",
            "done\n",
            "507\n",
            "done\n",
            "725\n",
            "done\n",
            "547\n",
            "done\n",
            "544\n",
            "done\n",
            "615\n",
            "done\n",
            "83\n",
            "done\n",
            "165\n",
            "done\n",
            "141\n",
            "done\n",
            "501\n",
            "done\n",
            "263\n",
            "done\n",
            "617\n",
            "done\n",
            "865\n",
            "done\n",
            "575\n",
            "done\n",
            "219\n",
            "done\n",
            "390\n",
            "done\n",
            "984\n",
            "done\n",
            "592\n",
            "done\n",
            "236\n",
            "done\n",
            "105\n",
            "done\n",
            "942\n",
            "done\n",
            "941\n",
            "done\n",
            "386\n",
            "done\n",
            "462\n",
            "done\n",
            "47\n",
            "done\n",
            "418\n",
            "done\n",
            "907\n",
            "done\n",
            "344\n",
            "done\n",
            "236\n",
            "done\n",
            "375\n",
            "done\n",
            "823\n",
            "done\n",
            "566\n",
            "done\n",
            "597\n",
            "done\n",
            "978\n",
            "done\n",
            "328\n",
            "done\n",
            "615\n",
            "done\n",
            "953\n",
            "done\n",
            "345\n",
            "done\n",
            "399\n",
            "done\n",
            "162\n",
            "done\n",
            "758\n",
            "done\n",
            "219\n"
          ]
        }
      ]
    },
    {
      "cell_type": "code",
      "source": [
        ""
      ],
      "metadata": {
        "id": "cYA_kLQUSIe3"
      },
      "execution_count": null,
      "outputs": []
    }
  ]
}