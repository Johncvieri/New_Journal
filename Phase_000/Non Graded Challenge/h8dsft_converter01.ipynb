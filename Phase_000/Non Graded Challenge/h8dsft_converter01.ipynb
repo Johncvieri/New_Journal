{
  "nbformat": 4,
  "nbformat_minor": 0,
  "metadata": {
    "colab": {
      "name": "h8dsft_converter.ipynb",
      "provenance": [],
      "collapsed_sections": []
    },
    "kernelspec": {
      "name": "python3",
      "display_name": "Python 3"
    },
    "language_info": {
      "name": "python"
    }
  },
  "cells": [
    {
      "cell_type": "markdown",
      "source": [
        "Buatlah sebuah function yang dapat mengkonversi suhu dari kelvin ke celcius, dan celcius ke kelvin.\n",
        "\n",
        "Buatlah sebuah function yang dapat mengkonversi suhu ke fahrenheit. Tambahkan parameter untuk memastikan bahwa argumen yang dimasukan adalah celcius atau kelvin. \n",
        "\n",
        "Panggil function yang pertama jika diperlukan.\n",
        "\n",
        "Buatlah sebuah function yang dapat mengkonversi suhu dari fahrenheit. \n",
        "\n",
        "Berikan argumen untuk memastikan bahwa outputnya dalah celcius atau kelvin.\n",
        "\n",
        "Berikan dokumentasi pada setiap baris kode yang kalian tulis.\n"
      ],
      "metadata": {
        "id": "AVT91t6BKfMv"
      }
    },
    {
      "cell_type": "code",
      "source": [
        "import numpy as np"
      ],
      "metadata": {
        "id": "zHwuJGzhNr9A"
      },
      "execution_count": null,
      "outputs": []
    },
    {
      "cell_type": "code",
      "source": [
        "#k>c = k-273.15\n",
        "k=13                  # Variabel kelvin\n",
        "c=273.15              # Variabel celcius\n",
        "hasil=float(k-c)      # parameter\n",
        "def konvert(hasil):   # fungsi\n",
        "    return (hasil)    # fungsi "
      ],
      "metadata": {
        "id": "ARR7AbNw2b1B"
      },
      "execution_count": null,
      "outputs": []
    },
    {
      "cell_type": "code",
      "source": [
        "print(hasil) # Menampilkan hasil konvert"
      ],
      "metadata": {
        "colab": {
          "base_uri": "https://localhost:8080/"
        },
        "id": "Kv_vsn-7biej",
        "outputId": "47c53696-b825-431b-d021-df8eedd57afa"
      },
      "execution_count": null,
      "outputs": [
        {
          "output_type": "stream",
          "name": "stdout",
          "text": [
            "-260.15\n"
          ]
        }
      ]
    },
    {
      "cell_type": "code",
      "source": [
        "\n",
        "\n",
        "# C ke F = (C*9/5) + 32\n",
        "# K ke F = (K - 273.15) * 9/5 + 32\n",
        "# R ke F = (9/4 * R) + 32\n",
        "\n",
        "\n",
        "\n",
        "def konversiSuhu(suhu):             #fungsi untuk menerima parameter\n",
        "   drjt    = int(suhu[:-1])         #mengambil data dari teks inputan tapi karakter terakhir tidak diikutkan. Misal \"30C\" jadi yang diambil cuma angka \"30\" saja, kemudian dimasukan ke variabel drjt.\n",
        "   inputan = suhu[-1]               #mengambil Karakter terakhir dari inputan. Misal \"30C\" maka yang diambil \"C\"-nya saja untuk kemudian dimasukan ke variabel inputan.\n",
        "\n",
        "   if inputan.upper() == \"C\":           #untuk inputan celcius\n",
        "     hasil  = float((drjt * 9/5) + 32)  #parameter celcius\n",
        "     jenisX = \"Celcius\"                 #memastikan input & output\n",
        "     jenis  = \"Fahrenheit\"              #memastikan output\n",
        "     print(drjt,jenisX,\"=\",\"{:.1f}\".format(hasil),jenis) #mencetak output\n",
        "   elif inputan.upper() == \"K\":                          #untuk inputan kelvin\n",
        "     hasil = float(((drjt - 273.15)*9/5)+32)             #parameter kelvin\n",
        "     jenisX = \"Kelvin\"                                   #memastikan input & output\n",
        "     jenis = \"Fahrenheit\"                                #memastikan&output\n",
        "     print(drjt,jenisX,\"=\",\"{:.1f}\".format(hasil),jenis) #mencetak output\n",
        "     \n",
        "   elif inputan.upper() == \"R\":                          #untuk inputan reamur\n",
        "     hasil = float((9/4*drjt)+32)                        #parameter reamur\n",
        "     jenisX = \"Reamur\"                                   #untuk memastikan input & output\n",
        "     jenis = \"Fahrenheit\"                                #memastikan output\n",
        "     print(drjt,jenisX,\"=\",\"{:.1f}\".format(hasil),jenis) # mencetak output\n",
        "     \n",
        "   else:\n",
        "      print(\"Inputan tidak sesuai!! Penulisan harus inisial & kapital\")\n",
        "\n",
        "#nested loop digunakan karena parameter lebih dari satu parameter.\n",
        "i=0\n",
        "print(\"Program Konversi Suhu ke fahrenheit\")\n",
        "while i==0:\n",
        "   temp = input(\"Masukan suhu? (Misal: 30C, 20F, 21K, 44R): \")\n",
        "   konversiSuhu(temp)\n",
        "\n",
        "   lagi=int(input(\"Hitung lagi?1=ya & 0=tidak = \"))\n",
        "   if(lagi==1):\n",
        "      i=0\n",
        "   elif(lagi!=1):\n",
        "      i=1"
      ],
      "metadata": {
        "colab": {
          "base_uri": "https://localhost:8080/"
        },
        "id": "4X2tsJRKDGYl",
        "outputId": "a26bcd38-ebb9-4f4b-f44e-1bcc100eabbb"
      },
      "execution_count": null,
      "outputs": [
        {
          "name": "stdout",
          "output_type": "stream",
          "text": [
            "Program Konversi Suhu ke fahrenheit\n",
            "Masukan suhu? (Misal: 30C, 20F, 21K, 44R): 22K\n",
            "22 Kelvin = -420.1 Fahrenheit\n",
            "Hitung lagi?1=ya & 0=tidak = 0\n"
          ]
        }
      ]
    }
  ]
}