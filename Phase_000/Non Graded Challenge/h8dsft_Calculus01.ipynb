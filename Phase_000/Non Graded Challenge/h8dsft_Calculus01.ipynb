{
  "nbformat": 4,
  "nbformat_minor": 0,
  "metadata": {
    "colab": {
      "name": "h8dsft_Calculus1.ipynb",
      "provenance": []
    },
    "kernelspec": {
      "name": "python3",
      "display_name": "Python 3"
    },
    "language_info": {
      "name": "python"
    }
  },
  "cells": [
    {
      "cell_type": "markdown",
      "source": [
        "Carilah derivative dari sebuah fungsi:\n",
        "* $y = x^{2} + 2x + 1$\n",
        "\n",
        "* $y = 4x^{3} - 3x^{2} + 2x -1$"
      ],
      "metadata": {
        "id": "GeltJ9xTnDns"
      }
    },
    {
      "cell_type": "code",
      "execution_count": 43,
      "metadata": {
        "id": "cbSREsDbm30w"
      },
      "outputs": [],
      "source": [
        "import sympy as sy\n",
        "import numpy as np"
      ]
    },
    {
      "cell_type": "markdown",
      "source": [
        "* $y = x^{2} + 2x + 1$"
      ],
      "metadata": {
        "id": "k5-jXTwfnuQq"
      }
    },
    {
      "cell_type": "code",
      "source": [
        "y = sy.Symbol('y')"
      ],
      "metadata": {
        "id": "5z7CScTvoIY4"
      },
      "execution_count": 5,
      "outputs": []
    },
    {
      "cell_type": "code",
      "source": [
        "x = sy.Symbol('x')"
      ],
      "metadata": {
        "id": "rdBVW6iPoYso"
      },
      "execution_count": 6,
      "outputs": []
    },
    {
      "cell_type": "code",
      "source": [
        "f = x**+2*x**+1\n",
        "f"
      ],
      "metadata": {
        "colab": {
          "base_uri": "https://localhost:8080/",
          "height": 38
        },
        "id": "wdYJGz15obg1",
        "outputId": "d10c7d0a-4f02-43ef-8e15-d6cb728514d0"
      },
      "execution_count": 24,
      "outputs": [
        {
          "output_type": "execute_result",
          "data": {
            "text/plain": [
              "x**3"
            ],
            "text/latex": "$\\displaystyle x^{3}$"
          },
          "metadata": {},
          "execution_count": 24
        }
      ]
    },
    {
      "cell_type": "code",
      "source": [
        "f.diff()"
      ],
      "metadata": {
        "colab": {
          "base_uri": "https://localhost:8080/",
          "height": 38
        },
        "id": "iGwHaXLnuF6q",
        "outputId": "8b710909-7379-4fe9-edec-d93540adab76"
      },
      "execution_count": 28,
      "outputs": [
        {
          "output_type": "execute_result",
          "data": {
            "text/plain": [
              "3*x**2"
            ],
            "text/latex": "$\\displaystyle 3 x^{2}$"
          },
          "metadata": {},
          "execution_count": 28
        }
      ]
    },
    {
      "cell_type": "markdown",
      "source": [
        "* $y = 4x^{3} - 3x^{2} + 2x -1$"
      ],
      "metadata": {
        "id": "mU-yhMozozBU"
      }
    },
    {
      "cell_type": "code",
      "source": [
        "a = 4*3*x**+2*x-1\n",
        "a"
      ],
      "metadata": {
        "colab": {
          "base_uri": "https://localhost:8080/",
          "height": 38
        },
        "id": "lsgEjLRryxi_",
        "outputId": "0af2b507-abf0-4e7e-f87c-76cd9411edae"
      },
      "execution_count": 46,
      "outputs": [
        {
          "output_type": "execute_result",
          "data": {
            "text/plain": [
              "12*x**3 - 1"
            ],
            "text/latex": "$\\displaystyle 12 x^{3} - 1$"
          },
          "metadata": {},
          "execution_count": 46
        }
      ]
    },
    {
      "cell_type": "code",
      "source": [
        "a.diff().diff().diff()"
      ],
      "metadata": {
        "colab": {
          "base_uri": "https://localhost:8080/",
          "height": 37
        },
        "id": "2lq4THa70iTP",
        "outputId": "4b232f6e-c6e4-4050-842c-c9dddd70c571"
      },
      "execution_count": 51,
      "outputs": [
        {
          "output_type": "execute_result",
          "data": {
            "text/plain": [
              "72"
            ],
            "text/latex": "$\\displaystyle 72$"
          },
          "metadata": {},
          "execution_count": 51
        }
      ]
    },
    {
      "cell_type": "code",
      "source": [
        "a.diff().diff().diff().diff()"
      ],
      "metadata": {
        "colab": {
          "base_uri": "https://localhost:8080/",
          "height": 37
        },
        "id": "dG31JzdX0nYb",
        "outputId": "b32a3b73-572a-4149-bfea-ebc02bf5fb00"
      },
      "execution_count": 52,
      "outputs": [
        {
          "output_type": "execute_result",
          "data": {
            "text/plain": [
              "0"
            ],
            "text/latex": "$\\displaystyle 0$"
          },
          "metadata": {},
          "execution_count": 52
        }
      ]
    }
  ]
}