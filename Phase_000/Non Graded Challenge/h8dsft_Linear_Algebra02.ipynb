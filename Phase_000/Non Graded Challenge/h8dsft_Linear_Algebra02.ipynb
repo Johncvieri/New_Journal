{
  "nbformat": 4,
  "nbformat_minor": 0,
  "metadata": {
    "colab": {
      "name": "h8dsft_Linear_Algebra2.ipynb",
      "provenance": [],
      "collapsed_sections": []
    },
    "kernelspec": {
      "name": "python3",
      "display_name": "Python 3"
    },
    "language_info": {
      "name": "python"
    }
  },
  "cells": [
    {
      "cell_type": "code",
      "source": [
        "import numpy as np"
      ],
      "metadata": {
        "id": "JFnM8o2gyi77"
      },
      "execution_count": 1,
      "outputs": []
    },
    {
      "cell_type": "markdown",
      "source": [
        "**Buatlah Tensor dibawah ini dengan Python:**\n",
        "\n",
        "**$$ \\begin{bmatrix} \\begin{bmatrix} 23 & 50 \\ 7 & 12 \\ \\end{bmatrix} \\begin{bmatrix} 57 & 67 \\ 99 & 43 \\end{bmatrix} \\ \\begin{bmatrix} 75 & 21 \\ 57 & 12 \\ \\end{bmatrix} \\begin{bmatrix} 87 & 26 \\ 18 & 84 \\end{bmatrix} \\end{bmatrix} $$**"
      ],
      "metadata": {
        "id": "ePmtLO1AyFl8"
      }
    },
    {
      "cell_type": "code",
      "execution_count": null,
      "metadata": {
        "id": "EiYzs1phx9D9"
      },
      "outputs": [],
      "source": [
        "Tensor = np.array([[23,50,7,12],\n",
        "                  [57,67,99,43],\n",
        "                  [75,21,57,12],\n",
        "                  [87,26,18,84]])\n",
        "Tensor # Matriks dengan lebih dari 2 dimensi"
      ]
    },
    {
      "cell_type": "markdown",
      "source": [
        "**Lakukan perkalian terhadap matrix berikut:**\n",
        "\n",
        "$$ A = \\begin{bmatrix} 23 & 50 & 19 \\ 7 & 12 & 109 \\ 57 & 67 & 98 \\end{bmatrix} \\begin{bmatrix} 17 \\ 22 \\ 19 \\end{bmatrix} $$\n",
        "\n"
      ],
      "metadata": {
        "id": "y0Jh8AIEz2iT"
      }
    },
    {
      "cell_type": "code",
      "source": [
        "A=np.array([[23,50,19],\n",
        "            [7,12,109],\n",
        "            [57,67,98]])\n",
        "A\n"
      ],
      "metadata": {
        "id": "k2A-Qezc0DfS"
      },
      "execution_count": null,
      "outputs": []
    },
    {
      "cell_type": "code",
      "source": [
        "B=np.array([17,\n",
        "            22,\n",
        "            19])\n",
        "B= B.reshape(-1,1)\n",
        "A_B = A*B"
      ],
      "metadata": {
        "id": "9ueYSCnE1j0C"
      },
      "execution_count": 25,
      "outputs": []
    },
    {
      "cell_type": "code",
      "source": [
        "A_B"
      ],
      "metadata": {
        "id": "IXdyLaz04bk9"
      },
      "execution_count": null,
      "outputs": []
    },
    {
      "cell_type": "markdown",
      "source": [
        "Lakukan Transpose, hitung determinan, dan inverse terhadap matrix dibawah ini:\n",
        "\n",
        "$$ \\begin{bmatrix} 23 & 50 & 19 \\ 7 & 12 & 109 \\ 57 & 67 & 98 \\end{bmatrix} $$"
      ],
      "metadata": {
        "id": "FEGkWpfO3G3n"
      }
    },
    {
      "cell_type": "code",
      "source": [
        "A= np.array([[23,50,19],\n",
        "     [7,12,109],\n",
        "     [57,67,98]])\n",
        "A"
      ],
      "metadata": {
        "id": "LiDg7APn2_QW"
      },
      "execution_count": null,
      "outputs": []
    },
    {
      "cell_type": "markdown",
      "source": [
        "Transpose"
      ],
      "metadata": {
        "id": "wjmXV1Wh5E7o"
      }
    },
    {
      "cell_type": "code",
      "source": [
        "A.T"
      ],
      "metadata": {
        "id": "R8t-i-1Y4yyU"
      },
      "execution_count": null,
      "outputs": []
    },
    {
      "cell_type": "markdown",
      "source": [
        "Determinan"
      ],
      "metadata": {
        "id": "04PI991b5IPc"
      }
    },
    {
      "cell_type": "code",
      "source": [
        "np.linalg.det(A)"
      ],
      "metadata": {
        "id": "HbnB4AS75Hat"
      },
      "execution_count": null,
      "outputs": []
    },
    {
      "cell_type": "code",
      "source": [
        "np.linalg.inv(A)"
      ],
      "metadata": {
        "id": "CRn-c2lS5Vb8"
      },
      "execution_count": null,
      "outputs": []
    }
  ]
}