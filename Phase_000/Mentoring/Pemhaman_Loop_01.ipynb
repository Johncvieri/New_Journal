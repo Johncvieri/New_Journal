{
  "cells": [
    {
      "cell_type": "markdown",
      "metadata": {
        "id": "vAVMpMsYGZYX"
      },
      "source": [
        "### While Loop\n",
        "\n",
        "* Pengulangan While Loop di dalam bahasa pemrograman Python dieksesusi \n",
        "* statement berkali-kali selama kondisi bernilai benar atau True.\n",
        "* else,break,continues"
      ]
    },
    {
      "cell_type": "code",
      "execution_count": null,
      "metadata": {},
      "outputs": [],
      "source": [
        "#Contoh sederhana\n",
        "count = 0\n",
        "while (count < 9):\n",
        "    print (\"The count is: \", count)\n",
        "    count = count + 1\n",
        "\n",
        "print (\"Good bye!\")"
      ]
    },
    {
      "cell_type": "code",
      "execution_count": null,
      "metadata": {
        "colab": {
          "base_uri": "https://localhost:8080/"
        },
        "id": "kHP_TzQFGXxX",
        "outputId": "4dba20a9-9e40-4d97-9363-b45eb7417423"
      },
      "outputs": [],
      "source": [
        "angka = 0\n",
        "\n",
        "while angka <10:\n",
        "  print('nilai angka adalah :', angka)\n",
        "  angka +=1\n",
        "else:                                               # Menunjukan bahwa while sudah selesai\n",
        "  print('angka di akhir while adalah :',angka)\n"
      ]
    },
    {
      "cell_type": "code",
      "execution_count": null,
      "metadata": {
        "colab": {
          "base_uri": "https://localhost:8080/"
        },
        "id": "ve5D14VoOnAR",
        "outputId": "01bdaca1-24be-4b4c-e347-10ef4aad680a"
      },
      "outputs": [],
      "source": [
        "angka = 0\n",
        "\n",
        "while angka <10:\n",
        "  print('nilai angka adalah :', angka)\n",
        "  if angka is 5:\n",
        "    break                                           # Untuk menghentikan perulangan dari perintah break yang di tentukan\n",
        "  angka +=1                                         # Update angka , += 1 , angka akan terus di tambahkan 1\n",
        "else:                                               # Menunjukan bahwa while sudah selesai\n",
        "  print('angka di akhir while adalah :',angka)"
      ]
    },
    {
      "cell_type": "code",
      "execution_count": null,
      "metadata": {
        "colab": {
          "base_uri": "https://localhost:8080/"
        },
        "id": "yVK6or4AQFg-",
        "outputId": "b79f1be2-149a-4d0a-9356-e4026bda19e8"
      },
      "outputs": [],
      "source": [
        "angka = 0\n",
        "\n",
        "while angka <10:                                    #fungsi loop perulangan Angka yang kurang dari 10\n",
        "  if angka is 5:                                    #jika angka adalah 5\n",
        "      angka +=1                                     #Angka di tambahkan disini agar ketika fungsi continue digunakan tidak terjadi infinite loop\n",
        "      continue                                      # Untuk mengulangi perulangan\n",
        "  print('nilai angka adalah :', angka)              \n",
        "  angka +=1\n",
        "else:                                               # Menunjukan bahwa while sudah selesai\n",
        "  print('angka di akhir while adalah :',angka)\n"
      ]
    },
    {
      "cell_type": "markdown",
      "metadata": {
        "id": "IUmF-_4-TNzS"
      },
      "source": [
        "### FOR LOOP\n",
        "\n",
        "Pengulangan for pada Python memiliki kemampuan untuk mengulangi item dari urutan apapun, seperti list atau string."
      ]
    },
    {
      "cell_type": "code",
      "execution_count": null,
      "metadata": {},
      "outputs": [],
      "source": [
        "#contoh loop sederhana\n",
        "\n",
        "angka = [1,2,3,4,5]\n",
        "for x in angka:\n",
        "    print(x)\n",
        "\n",
        "#Contoh pengulangan for\n",
        "buah = [\"nanas\", \"apel\", \"jeruk\"]\n",
        "for makanan in buah:\n",
        "    print (\"Saya suka makan\", makanan)"
      ]
    },
    {
      "cell_type": "code",
      "execution_count": null,
      "metadata": {
        "colab": {
          "base_uri": "https://localhost:8080/",
          "height": 132
        },
        "id": "01GGRtk3R7Rl",
        "outputId": "906192f9-9b8e-4ae0-ee54-a0f3341d9da7"
      },
      "outputs": [],
      "source": [
        "#List sebagai itterable\n",
        "\n",
        "Buah = ['apel','jeruk','mangga']\n",
        "\n",
        "for g in Buah:\n",
        "    print(g)\n",
        "    print(len(g))"
      ]
    },
    {
      "cell_type": "code",
      "execution_count": null,
      "metadata": {},
      "outputs": [],
      "source": [
        "#string sebagai itterable\n",
        "\n",
        "jeruk = 'jeruk'\n",
        "for i in jeruk:\n",
        "    print(i)\n",
        "\n",
        "\n"
      ]
    },
    {
      "cell_type": "code",
      "execution_count": null,
      "metadata": {},
      "outputs": [],
      "source": [
        "#for didalam for\n",
        "\n",
        "Buah    = ['apel','jeruk','mangga']\n",
        "Makanan = ['nasi','telur','mie']\n",
        "Minuman = ['jus_apel','jus_mangga','justru_itu']\n",
        "\n",
        "daftar_belanja = [Buah,Makanan,Minuman]\n",
        "for sub_daftar_belanja in daftar_belanja:\n",
        "    print(sub_daftar_belanja)\n",
        "    for komponen in sub_daftar_belanja:\n",
        "        print(komponen)"
      ]
    },
    {
      "cell_type": "markdown",
      "metadata": {},
      "source": [
        "### NESTED LOOP\n",
        "\n",
        "penggunaan satu lingkaran di dalam loop lain atau perulangan bersarang.\n",
        "* Catatan: Penggunaan modulo pada kondisional mengasumsikan nilai selain nol sebagai True(benar) dan nol sebagai False(salah)\n"
      ]
    },
    {
      "cell_type": "code",
      "execution_count": null,
      "metadata": {},
      "outputs": [],
      "source": [
        "for i in range (5):\n",
        "    for j in range(6):\n",
        "        print('[',j,i,']', end=\"\")\n",
        "        print()"
      ]
    },
    {
      "cell_type": "code",
      "execution_count": null,
      "metadata": {},
      "outputs": [],
      "source": [
        "i = 2\n",
        "while(i < 100):\n",
        "    j = 2\n",
        "    while(j <= (i/j)):\n",
        "        if not(i%j): break\n",
        "        j = j + 1\n",
        "    if (j > i/j) : print(i, \" is prime\")\n",
        "    i = i + 1"
      ]
    }
  ],
  "metadata": {
    "colab": {
      "name": "Pemhaman_Loop_1.ipynb",
      "provenance": []
    },
    "kernelspec": {
      "display_name": "Python 3",
      "name": "python3"
    },
    "language_info": {
      "codemirror_mode": {
        "name": "ipython",
        "version": 3
      },
      "file_extension": ".py",
      "mimetype": "text/x-python",
      "name": "python",
      "nbconvert_exporter": "python",
      "pygments_lexer": "ipython3",
      "version": "3.10.2"
    }
  },
  "nbformat": 4,
  "nbformat_minor": 0
}
