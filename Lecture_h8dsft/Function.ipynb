{
  "nbformat": 4,
  "nbformat_minor": 0,
  "metadata": {
    "colab": {
      "name": "function.ipynb",
      "provenance": []
    },
    "kernelspec": {
      "name": "python3",
      "display_name": "Python 3"
    },
    "language_info": {
      "name": "python"
    }
  },
  "cells": [
    {
      "cell_type": "markdown",
      "source": [
        "FUNCTION"
      ],
      "metadata": {
        "id": "AYk78jNKzDvb"
      }
    },
    {
      "cell_type": "markdown",
      "source": [
        "Fungsi pada Python, dibuat dengan kata kunci def kemudian diikuti dengan nama fungsinya.\n",
        "\n",
        "Contoh:\n",
        "\n",
        "def nama_fungsi():\n",
        "    print \"Hello ini Fungsi\""
      ],
      "metadata": {
        "id": "Y91_rGmC3sLG"
      }
    },
    {
      "cell_type": "markdown",
      "source": [
        "Fungsi return pada Python secara garis besar adalah mengembalikan nilai."
      ],
      "metadata": {
        "id": "J1iU59TQ3e5J"
      }
    },
    {
      "cell_type": "code",
      "source": [
        "def panggil(x):\n",
        "  y = 10\n",
        "  z = x + y\n",
        "  return z,y\n",
        "print(panggil(23))"
      ],
      "metadata": {
        "colab": {
          "base_uri": "https://localhost:8080/"
        },
        "id": "umUqaABMxBHm",
        "outputId": "47675d02-831a-4e3d-c620-b0f93314c6db"
      },
      "execution_count": null,
      "outputs": [
        {
          "output_type": "stream",
          "name": "stdout",
          "text": [
            "(33, 10)\n"
          ]
        }
      ]
    },
    {
      "cell_type": "markdown",
      "source": [
        "lambda biasa digunakan untuk mapping"
      ],
      "metadata": {
        "id": "6QXNlgNR26vL"
      }
    },
    {
      "cell_type": "code",
      "source": [
        "sum = lambda arg1,arg2:arg1 + arg2 \n",
        "print(\"value of total :\", sum(10,20))\n",
        "print(\"value of total:\", sum(20,20))"
      ],
      "metadata": {
        "colab": {
          "base_uri": "https://localhost:8080/"
        },
        "id": "2bxf7IaXyr29",
        "outputId": "c94681e2-076e-4a15-8c70-868bbe29e851"
      },
      "execution_count": null,
      "outputs": [
        {
          "output_type": "stream",
          "name": "stdout",
          "text": [
            "value of total : 30\n",
            "value of total: 40\n"
          ]
        }
      ]
    },
    {
      "cell_type": "code",
      "source": [
        "#global variabel\n",
        "\n",
        "total = 0\n",
        "\n",
        "#sum function\n",
        "def sum(arg1,arg2):\n",
        "  total = arg1+arg2;\n",
        "  print(\"inside the function local total :\", total)\n",
        "  return total\n",
        "\n",
        "  # panggil fungsi\n",
        "  print(\"outside the function global total - before :\", total)\n",
        "  total = sum (10,20)"
      ],
      "metadata": {
        "id": "PLOT7bP02tRQ"
      },
      "execution_count": null,
      "outputs": []
    },
    {
      "cell_type": "markdown",
      "source": [
        "Modul & packages\n"
      ],
      "metadata": {
        "id": "KaIxOQgY7Tcz"
      }
    },
    {
      "cell_type": "code",
      "source": [
        ""
      ],
      "metadata": {
        "colab": {
          "base_uri": "https://localhost:8080/",
          "height": 323
        },
        "id": "JF-WjK0h69Hf",
        "outputId": "2f995571-abcb-4151-ff92-e25ab993aa00"
      },
      "execution_count": null,
      "outputs": [
        {
          "output_type": "error",
          "ename": "ModuleNotFoundError",
          "evalue": "ignored",
          "traceback": [
            "\u001b[0;31m---------------------------------------------------------------------------\u001b[0m",
            "\u001b[0;31mModuleNotFoundError\u001b[0m                       Traceback (most recent call last)",
            "\u001b[0;32m<ipython-input-44-7897b8399fe7>\u001b[0m in \u001b[0;36m<module>\u001b[0;34m()\u001b[0m\n\u001b[0;32m----> 1\u001b[0;31m \u001b[0;32mimport\u001b[0m \u001b[0mperson\u001b[0m \u001b[0;32mas\u001b[0m \u001b[0mps\u001b[0m\u001b[0;34m\u001b[0m\u001b[0;34m\u001b[0m\u001b[0m\n\u001b[0m\u001b[1;32m      2\u001b[0m \u001b[0mprint\u001b[0m\u001b[0;34m(\u001b[0m\u001b[0mps\u001b[0m\u001b[0;34m.\u001b[0m\u001b[0mname\u001b[0m\u001b[0;34m)\u001b[0m\u001b[0;34m\u001b[0m\u001b[0;34m\u001b[0m\u001b[0m\n",
            "\u001b[0;31mModuleNotFoundError\u001b[0m: No module named 'person'",
            "",
            "\u001b[0;31m---------------------------------------------------------------------------\u001b[0;32m\nNOTE: If your import is failing due to a missing package, you can\nmanually install dependencies using either !pip or !apt.\n\nTo view examples of installing some common dependencies, click the\n\"Open Examples\" button below.\n\u001b[0;31m---------------------------------------------------------------------------\u001b[0m\n"
          ],
          "errorDetails": {
            "actions": [
              {
                "action": "open_url",
                "actionText": "Open Examples",
                "url": "/notebooks/snippets/importing_libraries.ipynb"
              }
            ]
          }
        }
      ]
    }
  ]
}